{
 "cells": [
  {
   "cell_type": "code",
   "execution_count": 1,
   "id": "9d851746",
   "metadata": {},
   "outputs": [],
   "source": [
    "import numpy as np\n",
    "import tensorflow as tf\n",
    "from tensorflow.keras.datasets import mnist\n",
    "from tensorflow.keras.models import Sequential\n",
    "from tensorflow.keras.layers import Dense, Flatten, Conv2D, MaxPooling2D\n",
    "from tensorflow.keras.utils import to_categorical\n"
   ]
  },
  {
   "cell_type": "code",
   "execution_count": 2,
   "id": "fd32ae6f",
   "metadata": {},
   "outputs": [],
   "source": [
    "# Load the MNIST dataset\n",
    "(X_train, y_train), (X_test, y_test) = mnist.load_data()\n"
   ]
  },
  {
   "cell_type": "code",
   "execution_count": 4,
   "id": "82da13a4",
   "metadata": {},
   "outputs": [],
   "source": [
    "# Preprocess the data\n",
    "X_train = X_train.reshape(X_train.shape[0], 28, 28, 1) / 255.0\n",
    "X_test = X_test.reshape(X_test.shape[0], 28, 28, 1) / 255.0\n",
    "y_train = to_categorical(y_train)\n",
    "y_test = to_categorical(y_test)\n"
   ]
  },
  {
   "cell_type": "code",
   "execution_count": 5,
   "id": "823d5ab8",
   "metadata": {},
   "outputs": [],
   "source": [
    "# Build the model\n",
    "model = Sequential()\n",
    "model.add(Conv2D(32, (3, 3), activation='relu', input_shape=(28, 28, 1)))\n",
    "model.add(MaxPooling2D((2, 2)))\n",
    "model.add(Conv2D(64, (3, 3), activation='relu'))\n",
    "model.add(MaxPooling2D((2, 2)))\n",
    "model.add(Flatten())\n",
    "model.add(Dense(64, activation='relu'))\n",
    "model.add(Dense(10, activation='softmax'))\n"
   ]
  },
  {
   "cell_type": "code",
   "execution_count": 6,
   "id": "7df68e4d",
   "metadata": {},
   "outputs": [],
   "source": [
    "# Compile the model\n",
    "model.compile(optimizer='adam', loss='categorical_crossentropy', metrics=['accuracy'])\n"
   ]
  },
  {
   "cell_type": "code",
   "execution_count": 7,
   "id": "b7168331",
   "metadata": {},
   "outputs": [
    {
     "name": "stdout",
     "output_type": "stream",
     "text": [
      "Epoch 1/10\n",
      "422/422 [==============================] - 33s 76ms/step - loss: 0.2471 - accuracy: 0.9273 - val_loss: 0.0891 - val_accuracy: 0.9740\n",
      "Epoch 2/10\n",
      "422/422 [==============================] - 32s 76ms/step - loss: 0.0669 - accuracy: 0.9796 - val_loss: 0.0491 - val_accuracy: 0.9860\n",
      "Epoch 3/10\n",
      "422/422 [==============================] - 32s 76ms/step - loss: 0.0477 - accuracy: 0.9851 - val_loss: 0.0367 - val_accuracy: 0.9895\n",
      "Epoch 4/10\n",
      "422/422 [==============================] - 32s 76ms/step - loss: 0.0364 - accuracy: 0.9887 - val_loss: 0.0414 - val_accuracy: 0.9883\n",
      "Epoch 5/10\n",
      "422/422 [==============================] - 30s 72ms/step - loss: 0.0301 - accuracy: 0.9909 - val_loss: 0.0431 - val_accuracy: 0.9885\n",
      "Epoch 6/10\n",
      "422/422 [==============================] - 32s 77ms/step - loss: 0.0248 - accuracy: 0.9919 - val_loss: 0.0378 - val_accuracy: 0.9895\n",
      "Epoch 7/10\n",
      "422/422 [==============================] - 32s 76ms/step - loss: 0.0197 - accuracy: 0.9940 - val_loss: 0.0364 - val_accuracy: 0.9893\n",
      "Epoch 8/10\n",
      "422/422 [==============================] - 32s 76ms/step - loss: 0.0173 - accuracy: 0.9944 - val_loss: 0.0341 - val_accuracy: 0.9905\n",
      "Epoch 9/10\n",
      "422/422 [==============================] - 33s 77ms/step - loss: 0.0145 - accuracy: 0.9954 - val_loss: 0.0377 - val_accuracy: 0.9895\n",
      "Epoch 10/10\n",
      "422/422 [==============================] - 32s 77ms/step - loss: 0.0126 - accuracy: 0.9961 - val_loss: 0.0333 - val_accuracy: 0.9903\n"
     ]
    },
    {
     "data": {
      "text/plain": [
       "<keras.callbacks.History at 0x27f87113b50>"
      ]
     },
     "execution_count": 7,
     "metadata": {},
     "output_type": "execute_result"
    }
   ],
   "source": [
    "# Train the model\n",
    "model.fit(X_train, y_train, epochs=10, batch_size=128, validation_split=0.1)\n"
   ]
  },
  {
   "cell_type": "code",
   "execution_count": 8,
   "id": "073ef432",
   "metadata": {},
   "outputs": [
    {
     "name": "stdout",
     "output_type": "stream",
     "text": [
      "313/313 [==============================] - 2s 6ms/step - loss: 0.0314 - accuracy: 0.9905\n",
      "Test Loss: 0.031375255435705185\n",
      "Test Accuracy: 0.9904999732971191\n"
     ]
    }
   ],
   "source": [
    "# Evaluate the model\n",
    "test_loss, test_accuracy = model.evaluate(X_test, y_test)\n",
    "print(f\"Test Loss: {test_loss}\")\n",
    "print(f\"Test Accuracy: {test_accuracy}\")\n"
   ]
  },
  {
   "cell_type": "code",
   "execution_count": 9,
   "id": "37707947",
   "metadata": {},
   "outputs": [
    {
     "name": "stdout",
     "output_type": "stream",
     "text": [
      "1/1 [==============================] - 0s 112ms/step\n",
      "Predicted Labels: [7 2 1 0 4 1 4 9 5 9]\n"
     ]
    }
   ],
   "source": [
    "# Make predictions\n",
    "predictions = model.predict(X_test[:10])\n",
    "predicted_labels = np.argmax(predictions, axis=1)\n",
    "print(f\"Predicted Labels: {predicted_labels}\")\n"
   ]
  },
  {
   "cell_type": "code",
   "execution_count": null,
   "id": "4a9ab1d4",
   "metadata": {},
   "outputs": [],
   "source": []
  }
 ],
 "metadata": {
  "kernelspec": {
   "display_name": "Python 3 (ipykernel)",
   "language": "python",
   "name": "python3"
  },
  "language_info": {
   "codemirror_mode": {
    "name": "ipython",
    "version": 3
   },
   "file_extension": ".py",
   "mimetype": "text/x-python",
   "name": "python",
   "nbconvert_exporter": "python",
   "pygments_lexer": "ipython3",
   "version": "3.10.7"
  }
 },
 "nbformat": 4,
 "nbformat_minor": 5
}
